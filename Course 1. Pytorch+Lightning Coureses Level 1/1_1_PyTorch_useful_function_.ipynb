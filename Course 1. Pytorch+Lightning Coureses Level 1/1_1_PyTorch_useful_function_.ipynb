{
  "nbformat": 4,
  "nbformat_minor": 0,
  "metadata": {
    "colab": {
      "name": "1.1 PyTorch useful function .ipynb",
      "provenance": [],
      "collapsed_sections": []
    },
    "kernelspec": {
      "name": "python3",
      "display_name": "Python 3"
    },
    "language_info": {
      "name": "python"
    }
  },
  "cells": [
    {
      "cell_type": "markdown",
      "source": [
        "# 1.1 PyTorch useful function \n",
        "\n",
        "### Syllabus\n",
        "1. torch.tensor\n",
        "2. torch math operation\n",
        "3. torch tensor grad\n",
        "4. torch documentation"
      ],
      "metadata": {
        "id": "jMSkWk9aZluS"
      }
    },
    {
      "cell_type": "markdown",
      "source": [
        "## 1. torch.tensor"
      ],
      "metadata": {
        "id": "JHS2hLpIaFLo"
      }
    },
    {
      "cell_type": "code",
      "execution_count": 1,
      "metadata": {
        "colab": {
          "base_uri": "https://localhost:8080/"
        },
        "id": "KvmEIzIeZdla",
        "outputId": "93dfbfad-6093-4ca7-82f5-f06b4729cf64"
      },
      "outputs": [
        {
          "output_type": "stream",
          "name": "stdout",
          "text": [
            "1.10.0+cu111\n"
          ]
        }
      ],
      "source": [
        "import torch\n",
        "#version of pytorch\n",
        "print(torch.__version__)"
      ]
    },
    {
      "cell_type": "code",
      "source": [
        "a = torch.tensor(1) #you can specify the type of tensor by using this parameter dtype inside the declaration\n",
        "print(a)\n",
        "print(a.dtype)\n",
        "print(a.shape)"
      ],
      "metadata": {
        "colab": {
          "base_uri": "https://localhost:8080/"
        },
        "id": "lwf7TnuQaOrB",
        "outputId": "2c0ca4f7-1682-4b1f-cd89-bb63d67e3b69"
      },
      "execution_count": 2,
      "outputs": [
        {
          "output_type": "stream",
          "name": "stdout",
          "text": [
            "tensor(1)\n",
            "torch.int64\n",
            "torch.Size([])\n"
          ]
        }
      ]
    },
    {
      "cell_type": "code",
      "source": [
        "b = torch.tensor(7.5)\n",
        "print(b)\n",
        "print(b.dtype)\n",
        "print(b.shape)"
      ],
      "metadata": {
        "colab": {
          "base_uri": "https://localhost:8080/"
        },
        "id": "-p0uqZDGaf58",
        "outputId": "b212d2b4-c136-42b4-8e3a-baca62ab89fe"
      },
      "execution_count": 3,
      "outputs": [
        {
          "output_type": "stream",
          "name": "stdout",
          "text": [
            "tensor(7.5000)\n",
            "torch.float32\n",
            "torch.Size([])\n"
          ]
        }
      ]
    },
    {
      "cell_type": "code",
      "source": [
        "#you can specify the type of tensor by using this parameter dtype inside the declaration\n",
        "c = torch.tensor(16, dtype=torch.float16)\n",
        "print(c)\n",
        "print(c.dtype)"
      ],
      "metadata": {
        "colab": {
          "base_uri": "https://localhost:8080/"
        },
        "id": "1Bsf11Keas6B",
        "outputId": "97ec7052-29b9-4d54-d3ab-cb93d23775dc"
      },
      "execution_count": 4,
      "outputs": [
        {
          "output_type": "stream",
          "name": "stdout",
          "text": [
            "tensor(16., dtype=torch.float16)\n",
            "torch.float16\n"
          ]
        }
      ]
    },
    {
      "cell_type": "code",
      "source": [
        "#you can pass list and tuple to tensor\n",
        "d = torch.tensor([[1,2,3],[4,5,6]])\n",
        "f = torch.tensor((7,3))"
      ],
      "metadata": {
        "id": "-XPslQNsbIRT"
      },
      "execution_count": 6,
      "outputs": []
    },
    {
      "cell_type": "code",
      "source": [
        "print(d, d.dtype)\n",
        "print(f, f.dtype)"
      ],
      "metadata": {
        "colab": {
          "base_uri": "https://localhost:8080/"
        },
        "id": "Ln6m9V2ubh-a",
        "outputId": "7580a4f4-d308-4b94-84e9-4173c0616798"
      },
      "execution_count": 7,
      "outputs": [
        {
          "output_type": "stream",
          "name": "stdout",
          "text": [
            "tensor([[1, 2, 3],\n",
            "        [4, 5, 6]]) torch.int64\n",
            "tensor([7, 3]) torch.int64\n"
          ]
        }
      ]
    },
    {
      "cell_type": "code",
      "source": [
        "#tensor and numpy\n",
        "import numpy as np\n",
        "\n",
        "x = np.array([[1,2,3,4],[5,6,7,8]])\n",
        "print(x, x.dtype)\n",
        "x = torch.tensor(x)\n",
        "print(x, x.dtype)\n",
        "x = x.numpy()\n",
        "print(x, x.dtype)"
      ],
      "metadata": {
        "colab": {
          "base_uri": "https://localhost:8080/"
        },
        "id": "nuYZZTF1brGS",
        "outputId": "32a0d7d7-09bd-4fbe-b198-292cf81e81c2"
      },
      "execution_count": 9,
      "outputs": [
        {
          "output_type": "stream",
          "name": "stdout",
          "text": [
            "[[1 2 3 4]\n",
            " [5 6 7 8]] int64\n",
            "tensor([[1, 2, 3, 4],\n",
            "        [5, 6, 7, 8]]) torch.int64\n",
            "[[1 2 3 4]\n",
            " [5 6 7 8]] int64\n"
          ]
        }
      ]
    },
    {
      "cell_type": "markdown",
      "source": [
        "## 2. Torch Math Operation"
      ],
      "metadata": {
        "id": "EKxtT1NXcQoc"
      }
    },
    {
      "cell_type": "code",
      "source": [
        "a = torch.tensor([1,2,3,4])\n",
        "b = torch.tensor([2,3,4,5])"
      ],
      "metadata": {
        "id": "e283au4IcK35"
      },
      "execution_count": 10,
      "outputs": []
    },
    {
      "cell_type": "code",
      "source": [
        "#add\n",
        "print(f'add: torch {torch.add(a,b)} regular {a+b}')\n",
        "#subtract\n",
        "print(f'subtract: torch {torch.subtract(b,a)} regular {b-a}')\n",
        "#multiply\n",
        "print(f'multiply: torch {torch.mul(b,a)} regular {b*a}')\n",
        "#divide\n",
        "print(f'divide: torch {torch.divide(b,a)} regular {b/a}')"
      ],
      "metadata": {
        "colab": {
          "base_uri": "https://localhost:8080/"
        },
        "id": "t3NMQMXacjMx",
        "outputId": "db738d1e-6e86-4cbd-cd3c-ca40b16e376f"
      },
      "execution_count": 12,
      "outputs": [
        {
          "output_type": "stream",
          "name": "stdout",
          "text": [
            "add: torch tensor([3, 5, 7, 9]) regular tensor([3, 5, 7, 9])\n",
            "subtract: torch tensor([1, 1, 1, 1]) regular tensor([1, 1, 1, 1])\n",
            "multiply: torch tensor([ 2,  6, 12, 20]) regular tensor([ 2,  6, 12, 20])\n",
            "divide: torch tensor([2.0000, 1.5000, 1.3333, 1.2500]) regular tensor([2.0000, 1.5000, 1.3333, 1.2500])\n"
          ]
        }
      ]
    },
    {
      "cell_type": "code",
      "source": [
        "#sum\n",
        "print(f\"sum {torch.sum(a)}\")\n",
        "#average\n",
        "print(f\"average {torch.mean(a.float())}\") #need to convert from int to float so the average can be done\n",
        "#standar deviation\n",
        "print(f\"standar deviation {torch.std(a.float())}\")"
      ],
      "metadata": {
        "colab": {
          "base_uri": "https://localhost:8080/"
        },
        "id": "aKSCkji8dQhi",
        "outputId": "8e6b126a-4223-4c17-80bb-58a87e10bc60"
      },
      "execution_count": 18,
      "outputs": [
        {
          "output_type": "stream",
          "name": "stdout",
          "text": [
            "sum 10\n",
            "average 2.5\n",
            "standar deviation 1.29099440574646\n"
          ]
        }
      ]
    },
    {
      "cell_type": "code",
      "source": [
        "#matrix multiplication\n",
        "a = torch.tensor([[2,2],[3,3]])\n",
        "b = torch.tensor([[1,2],[3,4]])\n",
        "\n",
        "print(f\"matmul torch {torch.matmul(a,b)} \\n reguler {a@b}\")"
      ],
      "metadata": {
        "colab": {
          "base_uri": "https://localhost:8080/"
        },
        "id": "LRDSo_Oxdnfz",
        "outputId": "6f49f69b-524f-415f-af79-4a7f4f411ab6"
      },
      "execution_count": 20,
      "outputs": [
        {
          "output_type": "stream",
          "name": "stdout",
          "text": [
            "matmul torch tensor([[ 8, 12],\n",
            "        [12, 18]]) \n",
            " reguler tensor([[ 8, 12],\n",
            "        [12, 18]])\n"
          ]
        }
      ]
    },
    {
      "cell_type": "markdown",
      "source": [
        "## 3. torch tensor grad\n",
        "\n",
        "we are gonna make function\n",
        "y = 3x^2 + 3x^3 and we are gonna doing some derivatives -> dy/dx -> y' = 6x +9x^2\n",
        "\n",
        "for x = 3"
      ],
      "metadata": {
        "id": "-TF4XevEfBth"
      }
    },
    {
      "cell_type": "code",
      "source": [
        "x = torch.tensor(3 , dtype=torch.float32, requires_grad=True)\n",
        "y = 3*x**2 +3*x**3\n",
        "print(y)\n",
        "y.backward()\n",
        "print(\"dy/dx: \",x.grad)"
      ],
      "metadata": {
        "colab": {
          "base_uri": "https://localhost:8080/"
        },
        "id": "dzy8czHRe45W",
        "outputId": "6f2e696a-e9f3-487a-9619-c9c7c1c4cab5"
      },
      "execution_count": 30,
      "outputs": [
        {
          "output_type": "stream",
          "name": "stdout",
          "text": [
            "tensor(108., grad_fn=<AddBackward0>)\n",
            "dx/dy:  tensor(99.)\n"
          ]
        }
      ]
    },
    {
      "cell_type": "markdown",
      "source": [
        "lets make it even more complicated\n",
        "lets do y = 3x^5 - 10w^4 + 8z and than print dy/dx, dy/dw, dy/dz\n",
        "\n",
        "for x = 3, w = 1, z = 2"
      ],
      "metadata": {
        "id": "2MjYqezBhIUZ"
      }
    },
    {
      "cell_type": "code",
      "source": [
        "w = torch.tensor(1 , dtype=torch.float32, requires_grad=True)\n",
        "z = torch.tensor(2 , dtype=torch.float32, requires_grad=True)\n",
        "\n",
        "y = 3*x**5 - 10*w**4 + 8*z\n",
        "print(y)\n",
        "y.backward()\n",
        "print(\"dy/dx: \", x.grad)\n",
        "print(\"dy/dw: \", w.grad)\n",
        "print(\"dy/dz: \", z.grad)"
      ],
      "metadata": {
        "colab": {
          "base_uri": "https://localhost:8080/"
        },
        "id": "tekgaixAfvON",
        "outputId": "3b8c0bad-5bec-4e89-c0e8-fd4ce2397fb0"
      },
      "execution_count": 31,
      "outputs": [
        {
          "output_type": "stream",
          "name": "stdout",
          "text": [
            "tensor(735., grad_fn=<AddBackward0>)\n",
            "dy/dx:  tensor(1314.)\n",
            "dy/dw:  tensor(-40.)\n",
            "dy/dz:  tensor(8.)\n"
          ]
        }
      ]
    },
    {
      "cell_type": "markdown",
      "source": [
        "## 4. Torch.documentations\n",
        "you can check the whole documentation of pytorch at https://pytorch.org/docs/stable/index.html"
      ],
      "metadata": {
        "id": "1MZFWdmyiQgy"
      }
    },
    {
      "cell_type": "code",
      "source": [
        ""
      ],
      "metadata": {
        "id": "ZWy1m1DNiDza"
      },
      "execution_count": null,
      "outputs": []
    }
  ]
}